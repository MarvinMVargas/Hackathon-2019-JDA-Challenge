{
 "cells": [
  {
   "cell_type": "code",
   "execution_count": 2,
   "metadata": {},
   "outputs": [
    {
     "name": "stderr",
     "output_type": "stream",
     "text": [
      "C:\\Users\\mARVIN\\Anaconda3\\lib\\site-packages\\sklearn\\ensemble\\weight_boosting.py:29: DeprecationWarning: numpy.core.umath_tests is an internal NumPy module and should not be imported. It will be removed in a future NumPy release.\n",
      "  from numpy.core.umath_tests import inner1d\n"
     ]
    }
   ],
   "source": [
    "import pandas as pd \n",
    "import numpy as np\n",
    "import pickle \n",
    "import time\n",
    "from sklearn.preprocessing import StandardScaler\n",
    "from sklearn.tree import DecisionTreeRegressor\n",
    "from sklearn.ensemble import RandomForestRegressor\n",
    "from sklearn.model_selection import train_test_split\n",
    "from sklearn import metrics"
   ]
  },
  {
   "cell_type": "code",
   "execution_count": 3,
   "metadata": {},
   "outputs": [],
   "source": [
    "regressor = pickle.load(open('RF.sav','rb'))"
   ]
  },
  {
   "cell_type": "code",
   "execution_count": 4,
   "metadata": {},
   "outputs": [],
   "source": [
    "pred = pd.read_csv('input_data_pred.csv')"
   ]
  },
  {
   "cell_type": "code",
   "execution_count": 5,
   "metadata": {},
   "outputs": [
    {
     "data": {
      "text/html": [
       "<div>\n",
       "<style scoped>\n",
       "    .dataframe tbody tr th:only-of-type {\n",
       "        vertical-align: middle;\n",
       "    }\n",
       "\n",
       "    .dataframe tbody tr th {\n",
       "        vertical-align: top;\n",
       "    }\n",
       "\n",
       "    .dataframe thead th {\n",
       "        text-align: right;\n",
       "    }\n",
       "</style>\n",
       "<table border=\"1\" class=\"dataframe\">\n",
       "  <thead>\n",
       "    <tr style=\"text-align: right;\">\n",
       "      <th></th>\n",
       "      <th>location</th>\n",
       "      <th>product</th>\n",
       "      <th>date</th>\n",
       "      <th>temp_mean</th>\n",
       "      <th>temp_max</th>\n",
       "      <th>temp_min</th>\n",
       "      <th>sunshine_quant</th>\n",
       "      <th>event</th>\n",
       "      <th>price</th>\n",
       "    </tr>\n",
       "  </thead>\n",
       "  <tbody>\n",
       "    <tr>\n",
       "      <th>0</th>\n",
       "      <td>1193</td>\n",
       "      <td>1</td>\n",
       "      <td>2013-07-01</td>\n",
       "      <td>13.905</td>\n",
       "      <td>16.27</td>\n",
       "      <td>11.54</td>\n",
       "      <td>456.0</td>\n",
       "      <td>NaN</td>\n",
       "      <td>1.5</td>\n",
       "    </tr>\n",
       "    <tr>\n",
       "      <th>1</th>\n",
       "      <td>1193</td>\n",
       "      <td>1</td>\n",
       "      <td>2013-07-02</td>\n",
       "      <td>13.025</td>\n",
       "      <td>14.94</td>\n",
       "      <td>11.11</td>\n",
       "      <td>347.0</td>\n",
       "      <td>NaN</td>\n",
       "      <td>1.5</td>\n",
       "    </tr>\n",
       "    <tr>\n",
       "      <th>2</th>\n",
       "      <td>1193</td>\n",
       "      <td>1</td>\n",
       "      <td>2013-07-03</td>\n",
       "      <td>14.390</td>\n",
       "      <td>15.94</td>\n",
       "      <td>12.84</td>\n",
       "      <td>297.0</td>\n",
       "      <td>NaN</td>\n",
       "      <td>1.5</td>\n",
       "    </tr>\n",
       "    <tr>\n",
       "      <th>3</th>\n",
       "      <td>1193</td>\n",
       "      <td>1</td>\n",
       "      <td>2013-07-04</td>\n",
       "      <td>15.015</td>\n",
       "      <td>17.52</td>\n",
       "      <td>12.51</td>\n",
       "      <td>385.0</td>\n",
       "      <td>NaN</td>\n",
       "      <td>1.5</td>\n",
       "    </tr>\n",
       "    <tr>\n",
       "      <th>4</th>\n",
       "      <td>1193</td>\n",
       "      <td>1</td>\n",
       "      <td>2013-07-05</td>\n",
       "      <td>16.890</td>\n",
       "      <td>21.81</td>\n",
       "      <td>11.97</td>\n",
       "      <td>622.0</td>\n",
       "      <td>NaN</td>\n",
       "      <td>1.5</td>\n",
       "    </tr>\n",
       "  </tbody>\n",
       "</table>\n",
       "</div>"
      ],
      "text/plain": [
       "   location  product        date  temp_mean  temp_max  temp_min  \\\n",
       "0      1193        1  2013-07-01     13.905     16.27     11.54   \n",
       "1      1193        1  2013-07-02     13.025     14.94     11.11   \n",
       "2      1193        1  2013-07-03     14.390     15.94     12.84   \n",
       "3      1193        1  2013-07-04     15.015     17.52     12.51   \n",
       "4      1193        1  2013-07-05     16.890     21.81     11.97   \n",
       "\n",
       "   sunshine_quant event  price  \n",
       "0           456.0   NaN    1.5  \n",
       "1           347.0   NaN    1.5  \n",
       "2           297.0   NaN    1.5  \n",
       "3           385.0   NaN    1.5  \n",
       "4           622.0   NaN    1.5  "
      ]
     },
     "execution_count": 5,
     "metadata": {},
     "output_type": "execute_result"
    }
   ],
   "source": [
    "pred.head()"
   ]
  },
  {
   "cell_type": "code",
   "execution_count": 7,
   "metadata": {},
   "outputs": [],
   "source": [
    "pred = pred.drop(['temp_max','temp_min','event'],axis=1) "
   ]
  },
  {
   "cell_type": "code",
   "execution_count": 8,
   "metadata": {},
   "outputs": [
    {
     "data": {
      "text/html": [
       "<div>\n",
       "<style scoped>\n",
       "    .dataframe tbody tr th:only-of-type {\n",
       "        vertical-align: middle;\n",
       "    }\n",
       "\n",
       "    .dataframe tbody tr th {\n",
       "        vertical-align: top;\n",
       "    }\n",
       "\n",
       "    .dataframe thead th {\n",
       "        text-align: right;\n",
       "    }\n",
       "</style>\n",
       "<table border=\"1\" class=\"dataframe\">\n",
       "  <thead>\n",
       "    <tr style=\"text-align: right;\">\n",
       "      <th></th>\n",
       "      <th>location</th>\n",
       "      <th>product</th>\n",
       "      <th>date</th>\n",
       "      <th>temp_mean</th>\n",
       "      <th>sunshine_quant</th>\n",
       "      <th>price</th>\n",
       "    </tr>\n",
       "  </thead>\n",
       "  <tbody>\n",
       "    <tr>\n",
       "      <th>0</th>\n",
       "      <td>1193</td>\n",
       "      <td>1</td>\n",
       "      <td>2013-07-01</td>\n",
       "      <td>13.905</td>\n",
       "      <td>456.0</td>\n",
       "      <td>1.5</td>\n",
       "    </tr>\n",
       "    <tr>\n",
       "      <th>1</th>\n",
       "      <td>1193</td>\n",
       "      <td>1</td>\n",
       "      <td>2013-07-02</td>\n",
       "      <td>13.025</td>\n",
       "      <td>347.0</td>\n",
       "      <td>1.5</td>\n",
       "    </tr>\n",
       "    <tr>\n",
       "      <th>2</th>\n",
       "      <td>1193</td>\n",
       "      <td>1</td>\n",
       "      <td>2013-07-03</td>\n",
       "      <td>14.390</td>\n",
       "      <td>297.0</td>\n",
       "      <td>1.5</td>\n",
       "    </tr>\n",
       "    <tr>\n",
       "      <th>3</th>\n",
       "      <td>1193</td>\n",
       "      <td>1</td>\n",
       "      <td>2013-07-04</td>\n",
       "      <td>15.015</td>\n",
       "      <td>385.0</td>\n",
       "      <td>1.5</td>\n",
       "    </tr>\n",
       "    <tr>\n",
       "      <th>4</th>\n",
       "      <td>1193</td>\n",
       "      <td>1</td>\n",
       "      <td>2013-07-05</td>\n",
       "      <td>16.890</td>\n",
       "      <td>622.0</td>\n",
       "      <td>1.5</td>\n",
       "    </tr>\n",
       "  </tbody>\n",
       "</table>\n",
       "</div>"
      ],
      "text/plain": [
       "   location  product        date  temp_mean  sunshine_quant  price\n",
       "0      1193        1  2013-07-01     13.905           456.0    1.5\n",
       "1      1193        1  2013-07-02     13.025           347.0    1.5\n",
       "2      1193        1  2013-07-03     14.390           297.0    1.5\n",
       "3      1193        1  2013-07-04     15.015           385.0    1.5\n",
       "4      1193        1  2013-07-05     16.890           622.0    1.5"
      ]
     },
     "execution_count": 8,
     "metadata": {},
     "output_type": "execute_result"
    }
   ],
   "source": [
    "pred.head()"
   ]
  },
  {
   "cell_type": "code",
   "execution_count": 10,
   "metadata": {},
   "outputs": [],
   "source": [
    "pred[['Year','Month','Day']] = pred.date.str.split(expand=True,pat='-')\n",
    "pred['Year'] = pred['Year'].astype(float)\n",
    "pred['Month'] = pred['Month'].astype(float)\n",
    "pred['Day'] = pred['Day'].astype(float)"
   ]
  },
  {
   "cell_type": "code",
   "execution_count": 12,
   "metadata": {},
   "outputs": [
    {
     "data": {
      "text/html": [
       "<div>\n",
       "<style scoped>\n",
       "    .dataframe tbody tr th:only-of-type {\n",
       "        vertical-align: middle;\n",
       "    }\n",
       "\n",
       "    .dataframe tbody tr th {\n",
       "        vertical-align: top;\n",
       "    }\n",
       "\n",
       "    .dataframe thead th {\n",
       "        text-align: right;\n",
       "    }\n",
       "</style>\n",
       "<table border=\"1\" class=\"dataframe\">\n",
       "  <thead>\n",
       "    <tr style=\"text-align: right;\">\n",
       "      <th></th>\n",
       "      <th>location</th>\n",
       "      <th>product</th>\n",
       "      <th>temp_mean</th>\n",
       "      <th>sunshine_quant</th>\n",
       "      <th>price</th>\n",
       "      <th>Year</th>\n",
       "      <th>Month</th>\n",
       "      <th>Day</th>\n",
       "    </tr>\n",
       "  </thead>\n",
       "  <tbody>\n",
       "    <tr>\n",
       "      <th>0</th>\n",
       "      <td>1193</td>\n",
       "      <td>1</td>\n",
       "      <td>13.905</td>\n",
       "      <td>456.0</td>\n",
       "      <td>1.5</td>\n",
       "      <td>2013.0</td>\n",
       "      <td>7.0</td>\n",
       "      <td>1.0</td>\n",
       "    </tr>\n",
       "    <tr>\n",
       "      <th>1</th>\n",
       "      <td>1193</td>\n",
       "      <td>1</td>\n",
       "      <td>13.025</td>\n",
       "      <td>347.0</td>\n",
       "      <td>1.5</td>\n",
       "      <td>2013.0</td>\n",
       "      <td>7.0</td>\n",
       "      <td>2.0</td>\n",
       "    </tr>\n",
       "    <tr>\n",
       "      <th>2</th>\n",
       "      <td>1193</td>\n",
       "      <td>1</td>\n",
       "      <td>14.390</td>\n",
       "      <td>297.0</td>\n",
       "      <td>1.5</td>\n",
       "      <td>2013.0</td>\n",
       "      <td>7.0</td>\n",
       "      <td>3.0</td>\n",
       "    </tr>\n",
       "    <tr>\n",
       "      <th>3</th>\n",
       "      <td>1193</td>\n",
       "      <td>1</td>\n",
       "      <td>15.015</td>\n",
       "      <td>385.0</td>\n",
       "      <td>1.5</td>\n",
       "      <td>2013.0</td>\n",
       "      <td>7.0</td>\n",
       "      <td>4.0</td>\n",
       "    </tr>\n",
       "    <tr>\n",
       "      <th>4</th>\n",
       "      <td>1193</td>\n",
       "      <td>1</td>\n",
       "      <td>16.890</td>\n",
       "      <td>622.0</td>\n",
       "      <td>1.5</td>\n",
       "      <td>2013.0</td>\n",
       "      <td>7.0</td>\n",
       "      <td>5.0</td>\n",
       "    </tr>\n",
       "  </tbody>\n",
       "</table>\n",
       "</div>"
      ],
      "text/plain": [
       "   location  product  temp_mean  sunshine_quant  price    Year  Month  Day\n",
       "0      1193        1     13.905           456.0    1.5  2013.0    7.0  1.0\n",
       "1      1193        1     13.025           347.0    1.5  2013.0    7.0  2.0\n",
       "2      1193        1     14.390           297.0    1.5  2013.0    7.0  3.0\n",
       "3      1193        1     15.015           385.0    1.5  2013.0    7.0  4.0\n",
       "4      1193        1     16.890           622.0    1.5  2013.0    7.0  5.0"
      ]
     },
     "execution_count": 12,
     "metadata": {},
     "output_type": "execute_result"
    }
   ],
   "source": [
    "pred.head()"
   ]
  },
  {
   "cell_type": "code",
   "execution_count": 24,
   "metadata": {},
   "outputs": [],
   "source": [
    "if(pred['temp_mean'].isnull().values.any()):\n",
    "    pred['temp_mean'] = pred['temp_mean'].fillna(value=pred['temp_mean'].mean())\n",
    "\n",
    "if(pred['sunshine_quant'].isnull().values.any()):\n",
    "    pred['sunshine_quant'] = pred['sunshine_quant'].fillna(value=pred['sunshine_quant'].mean())\n",
    "\n",
    "if(pred['price'].isnull().values.any()):\n",
    "    pred['price'] = pred['price'].fillna(value=0)"
   ]
  },
  {
   "cell_type": "code",
   "execution_count": 28,
   "metadata": {},
   "outputs": [],
   "source": [
    "X = pred.iloc[:,:8].values"
   ]
  },
  {
   "cell_type": "code",
   "execution_count": 29,
   "metadata": {},
   "outputs": [
    {
     "data": {
      "text/plain": [
       "array([[1.1930e+03, 1.0000e+00, 1.3905e+01, ..., 2.0130e+03, 7.0000e+00,\n",
       "        1.0000e+00],\n",
       "       [1.1930e+03, 1.0000e+00, 1.3025e+01, ..., 2.0130e+03, 7.0000e+00,\n",
       "        2.0000e+00],\n",
       "       [1.1930e+03, 1.0000e+00, 1.4390e+01, ..., 2.0130e+03, 7.0000e+00,\n",
       "        3.0000e+00],\n",
       "       ...,\n",
       "       [9.7000e+01, 3.6900e+02, 1.4415e+01, ..., 2.0130e+03, 9.0000e+00,\n",
       "        2.8000e+01],\n",
       "       [9.7000e+01, 3.6900e+02, 1.4665e+01, ..., 2.0130e+03, 9.0000e+00,\n",
       "        2.9000e+01],\n",
       "       [9.7000e+01, 3.6900e+02, 1.4390e+01, ..., 2.0130e+03, 9.0000e+00,\n",
       "        3.0000e+01]])"
      ]
     },
     "execution_count": 29,
     "metadata": {},
     "output_type": "execute_result"
    }
   ],
   "source": [
    "X"
   ]
  },
  {
   "cell_type": "code",
   "execution_count": 30,
   "metadata": {},
   "outputs": [],
   "source": [
    "y_pred = regressor.predict(X)"
   ]
  },
  {
   "cell_type": "code",
   "execution_count": 31,
   "metadata": {},
   "outputs": [
    {
     "data": {
      "text/plain": [
       "array([2.65, 2.65, 2.55, ..., 7.  , 9.4 , 9.4 ])"
      ]
     },
     "execution_count": 31,
     "metadata": {},
     "output_type": "execute_result"
    }
   ],
   "source": [
    "y_pred"
   ]
  },
  {
   "cell_type": "code",
   "execution_count": 32,
   "metadata": {},
   "outputs": [],
   "source": [
    "pred['sa_quantity'] = y_pred"
   ]
  },
  {
   "cell_type": "code",
   "execution_count": 33,
   "metadata": {},
   "outputs": [
    {
     "data": {
      "text/html": [
       "<div>\n",
       "<style scoped>\n",
       "    .dataframe tbody tr th:only-of-type {\n",
       "        vertical-align: middle;\n",
       "    }\n",
       "\n",
       "    .dataframe tbody tr th {\n",
       "        vertical-align: top;\n",
       "    }\n",
       "\n",
       "    .dataframe thead th {\n",
       "        text-align: right;\n",
       "    }\n",
       "</style>\n",
       "<table border=\"1\" class=\"dataframe\">\n",
       "  <thead>\n",
       "    <tr style=\"text-align: right;\">\n",
       "      <th></th>\n",
       "      <th>location</th>\n",
       "      <th>product</th>\n",
       "      <th>temp_mean</th>\n",
       "      <th>sunshine_quant</th>\n",
       "      <th>price</th>\n",
       "      <th>Year</th>\n",
       "      <th>Month</th>\n",
       "      <th>Day</th>\n",
       "      <th>sa_quantity</th>\n",
       "    </tr>\n",
       "  </thead>\n",
       "  <tbody>\n",
       "    <tr>\n",
       "      <th>0</th>\n",
       "      <td>1193</td>\n",
       "      <td>1</td>\n",
       "      <td>13.905</td>\n",
       "      <td>456.0</td>\n",
       "      <td>1.5</td>\n",
       "      <td>2013.0</td>\n",
       "      <td>7.0</td>\n",
       "      <td>1.0</td>\n",
       "      <td>2.65</td>\n",
       "    </tr>\n",
       "    <tr>\n",
       "      <th>1</th>\n",
       "      <td>1193</td>\n",
       "      <td>1</td>\n",
       "      <td>13.025</td>\n",
       "      <td>347.0</td>\n",
       "      <td>1.5</td>\n",
       "      <td>2013.0</td>\n",
       "      <td>7.0</td>\n",
       "      <td>2.0</td>\n",
       "      <td>2.65</td>\n",
       "    </tr>\n",
       "    <tr>\n",
       "      <th>2</th>\n",
       "      <td>1193</td>\n",
       "      <td>1</td>\n",
       "      <td>14.390</td>\n",
       "      <td>297.0</td>\n",
       "      <td>1.5</td>\n",
       "      <td>2013.0</td>\n",
       "      <td>7.0</td>\n",
       "      <td>3.0</td>\n",
       "      <td>2.55</td>\n",
       "    </tr>\n",
       "    <tr>\n",
       "      <th>3</th>\n",
       "      <td>1193</td>\n",
       "      <td>1</td>\n",
       "      <td>15.015</td>\n",
       "      <td>385.0</td>\n",
       "      <td>1.5</td>\n",
       "      <td>2013.0</td>\n",
       "      <td>7.0</td>\n",
       "      <td>4.0</td>\n",
       "      <td>2.10</td>\n",
       "    </tr>\n",
       "    <tr>\n",
       "      <th>4</th>\n",
       "      <td>1193</td>\n",
       "      <td>1</td>\n",
       "      <td>16.890</td>\n",
       "      <td>622.0</td>\n",
       "      <td>1.5</td>\n",
       "      <td>2013.0</td>\n",
       "      <td>7.0</td>\n",
       "      <td>5.0</td>\n",
       "      <td>2.60</td>\n",
       "    </tr>\n",
       "  </tbody>\n",
       "</table>\n",
       "</div>"
      ],
      "text/plain": [
       "   location  product  temp_mean  sunshine_quant  price    Year  Month  Day  \\\n",
       "0      1193        1     13.905           456.0    1.5  2013.0    7.0  1.0   \n",
       "1      1193        1     13.025           347.0    1.5  2013.0    7.0  2.0   \n",
       "2      1193        1     14.390           297.0    1.5  2013.0    7.0  3.0   \n",
       "3      1193        1     15.015           385.0    1.5  2013.0    7.0  4.0   \n",
       "4      1193        1     16.890           622.0    1.5  2013.0    7.0  5.0   \n",
       "\n",
       "   sa_quantity  \n",
       "0         2.65  \n",
       "1         2.65  \n",
       "2         2.55  \n",
       "3         2.10  \n",
       "4         2.60  "
      ]
     },
     "execution_count": 33,
     "metadata": {},
     "output_type": "execute_result"
    }
   ],
   "source": [
    "pred.head()"
   ]
  },
  {
   "cell_type": "code",
   "execution_count": 34,
   "metadata": {},
   "outputs": [],
   "source": [
    "import csv\n",
    "pred.to_csv('Final_pred.csv')"
   ]
  },
  {
   "cell_type": "code",
   "execution_count": null,
   "metadata": {},
   "outputs": [],
   "source": []
  }
 ],
 "metadata": {
  "kernelspec": {
   "display_name": "Python 3",
   "language": "python",
   "name": "python3"
  },
  "language_info": {
   "codemirror_mode": {
    "name": "ipython",
    "version": 3
   },
   "file_extension": ".py",
   "mimetype": "text/x-python",
   "name": "python",
   "nbconvert_exporter": "python",
   "pygments_lexer": "ipython3",
   "version": "3.7.0"
  }
 },
 "nbformat": 4,
 "nbformat_minor": 2
}
